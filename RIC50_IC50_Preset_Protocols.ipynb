{
 "cells": [
  {
   "cell_type": "code",
   "execution_count": null,
   "metadata": {},
   "outputs": [],
   "source": [
    "# Serial dilution; \n",
    "# 1. Put Trough at deck position 2.\n",
    "# 2. Enter start tip position for tip box at deck position 7. \n",
    "sd=dict( name = 'serial_dilution',\n",
    "\n",
    "plate_position = 3, # plate slot position.\n",
    "\n",
    "tip_start_positoin = 2, # tip start column in slot 7.\n",
    " \n",
    "number_of_points = 12, # how many concentration points in total, including 0.\n",
    "\n",
    "dilution_factor = 2, # dilution factor. \n",
    "            \n",
    "buffer_in_well = 1, # buffer position in the trough.\n",
    "    \n",
    ")"
   ]
  },
  {
   "cell_type": "code",
   "execution_count": null,
   "metadata": {},
   "outputs": [],
   "source": [
    "# Run Serial dilution; \n",
    "from user_interface import *\n",
    "preset_reader('serial_dilution',**sd)"
   ]
  },
  {
   "cell_type": "code",
   "execution_count": null,
   "metadata": {},
   "outputs": [],
   "source": []
  },
  {
   "cell_type": "code",
   "execution_count": null,
   "metadata": {},
   "outputs": [],
   "source": [
    "# Add beads; \n",
    "# 1. Put Trough at deck position 2.\n",
    "# 2. Enter start tip position for tip box at deck position 7. \n",
    "ab=dict(name = 'add_beads',\n",
    "\n",
    "plate_position = 3, # plate slot position.\n",
    "\n",
    "tip_start_positoin = 2, # tip start column in slot 7.\n",
    " \n",
    "number_of_points = 12, # how many concentration points in total, including 0.\n",
    "            \n",
    "beads_in_well = 2, # beads position in the trough.\n",
    "    \n",
    ")"
   ]
  },
  {
   "cell_type": "code",
   "execution_count": null,
   "metadata": {},
   "outputs": [],
   "source": [
    "# Run Add beads; \n",
    "from user_interface import *\n",
    "preset_reader('add_beads',**ab)"
   ]
  },
  {
   "cell_type": "code",
   "execution_count": null,
   "metadata": {},
   "outputs": [],
   "source": []
  },
  {
   "cell_type": "code",
   "execution_count": null,
   "metadata": {},
   "outputs": [],
   "source": [
    "# Run IC50 test; \n",
    "# Run the setting parameter cells for Serial Dilution and Add Beads first.\n",
    "from user_interface import *\n",
    "sd.update(ab)\n",
    "sd.update(name='IC50_test')\n",
    "preset_reader('IC50_test',**sd)"
   ]
  },
  {
   "cell_type": "code",
   "execution_count": null,
   "metadata": {},
   "outputs": [],
   "source": []
  },
  {
   "cell_type": "code",
   "execution_count": null,
   "metadata": {},
   "outputs": [],
   "source": [
    "# Add Antibody; \n",
    "# 1. Put Trough at deck position 2.\n",
    "# 2. Enter start tip position for tip box at deck position 7. \n",
    "# 3. Put Plate on Magnet module.\n",
    "# 4. add 15mL V1 to trough for wash.\n",
    "aa=dict(name = 'add_antibody',\n",
    "\n",
    "tip_start_positoin = 2, # tip start column in slot 7.\n",
    " \n",
    "number_of_points = 12, # how many concentration points in total, including 0.\n",
    "        \n",
    "buffer_in_well = 4, # 15ml V1 buffer position for wash the beads before adding antibody.\n",
    "            \n",
    "antibody_in_well = 3, # antibody position, make 1mL extra for 100ul per well. \n",
    ")"
   ]
  },
  {
   "cell_type": "code",
   "execution_count": null,
   "metadata": {},
   "outputs": [],
   "source": [
    "# Run Add Antibody; \n",
    "from user_interface import *\n",
    "preset_reader('add_antibody',**aa)"
   ]
  },
  {
   "cell_type": "code",
   "execution_count": null,
   "metadata": {},
   "outputs": [],
   "source": []
  },
  {
   "cell_type": "code",
   "execution_count": null,
   "metadata": {},
   "outputs": [],
   "source": []
  },
  {
   "cell_type": "code",
   "execution_count": null,
   "metadata": {},
   "outputs": [],
   "source": [
    "# Resuspend In V1 for run\n",
    "#1. add 15ml V1 to trough.\n",
    "resus=dict(name = 'resuspend',\n",
    "\n",
    "tip_start_positoin = 2, # tip start column in slot 7.\n",
    " \n",
    "number_of_points = 12, # how many concentration points in total, including 0.\n",
    "        \n",
    "buffer_in_well = 5, # 15ml V1 buffer position for resuspend\n",
    ")"
   ]
  },
  {
   "cell_type": "code",
   "execution_count": null,
   "metadata": {},
   "outputs": [],
   "source": [
    "# Run Resuspend\n",
    "from user_interface import *\n",
    "preset_reader('resuspend',**resus)"
   ]
  },
  {
   "cell_type": "code",
   "execution_count": null,
   "metadata": {},
   "outputs": [],
   "source": []
  },
  {
   "cell_type": "code",
   "execution_count": null,
   "metadata": {},
   "outputs": [],
   "source": [
    "# Add TMB; \n",
    "# 1. Put Trough at deck position 2.\n",
    "# 2. Enter start tip position for tip box at deck position 7. \n",
    "atmb=dict(name = 'add_TMB',\n",
    "\n",
    "plate_position = 3, # plate slot position.\n",
    "\n",
    "tip_start_positoin = 2, # tip start column in slot 7.\n",
    " \n",
    "number_of_points = 12, # how many concentration points in total\n",
    "            \n",
    "TMB_in_well = 2, # beads position in the trough.\n",
    "\n",
    "TMB_to_add = 100, # volume of TMB to add.\n",
    "        \n",
    "develop_time = 180,\n",
    "# time to develop with TMB, if set to 0, will not add stop solution\n",
    "\n",
    "stop_in_well = 3, # stop solution position.\n",
    "\n",
    "stop_to_add = 100, # volume of stop solution to add.        \n",
    ")"
   ]
  },
  {
   "cell_type": "code",
   "execution_count": null,
   "metadata": {},
   "outputs": [],
   "source": [
    "# Run Add TMB; \n",
    "from user_interface import *\n",
    "preset_reader('add_TMB',**atmb)"
   ]
  }
 ],
 "metadata": {
  "kernelspec": {
   "display_name": "Python 3",
   "language": "python",
   "name": "python3"
  },
  "language_info": {
   "codemirror_mode": {
    "name": "ipython",
    "version": 3
   },
   "file_extension": ".py",
   "mimetype": "text/x-python",
   "name": "python",
   "nbconvert_exporter": "python",
   "pygments_lexer": "ipython3",
   "version": "3.7.3"
  }
 },
 "nbformat": 4,
 "nbformat_minor": 2
}
