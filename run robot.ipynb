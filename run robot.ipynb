{
 "cells": [
  {
   "cell_type": "code",
   "execution_count": null,
   "metadata": {},
   "outputs": [
    {
     "name": "stdout",
     "output_type": "stream",
     "text": [
      "Get start?\n",
      "++++++++++++++++++++++++++++++++++++++++++++++++++\n",
      "\n",
      "What to do?\n",
      " 1). create protocol and run \n",
      " 2). create protocol and save\n",
      " 3). run saved protocol\n",
      " manual mode \n",
      "\n",
      "Choose one (1,2,3) : 2\n",
      "++++++++++++++++++++++++++++++++++++++++++++++++++\n",
      "\n",
      "Deck plan options: \n",
      "1).default : 1/3:elisa strip; 2:trough; 4:15-50ml rack; 5:ep rack; 9:trash\n",
      "2).default-1ml-Plate : *1:1ml-PP plate*; 2:trough; 3:elisa strip; 4:15-50ml rack; 5:ep rack; 9:trash\n",
      "3).default-5ml : 1/3:elisa strip; 2:trough; *4:5ml-50ml rack*; 5:ep rack; 9:trash\n",
      "4).default-mag : *1:magnet*; 2:trough; 3:elisa strip; 4:15-50ml rack; 5:ep rack; 9:trash\n",
      "Pick a deck plan to use (1,2,3) : 4\n",
      "++++++++++++++++++++++++++++++++++++++++++++++++++\n",
      "Single tip start position (*A1, C5) : *\n",
      "Multi tip start position (*A4, A2) : *\n",
      "++++++++++++++++++++++++++++++++++++++++++++++++++\n",
      "Build your experiment procedures: \n",
      "++++++++++++++++++++++++++++++++++++++++++++++++++\n",
      "\n",
      "Currently these operations are available:\n",
      "\n",
      "md or multi-distribute : distribute liquid with multi pipette.\n",
      "sd or single-distribute : distribute liquid with single pipette.\n",
      "msd or multi-serial-dilution : serial dilution with multi pipette.\n",
      "ssd or single-serial-dilution : serial dilution with single pipette.\n",
      "mmx or multi-mix : mix liquid with multi pipette.\n",
      "smx or multi-mix : mix liquid with single pipette.\n",
      "tm or toggle-magnet : engage or disengage magnet\n",
      "oh or on-hold : put robot on hold for certain time\n",
      "\n",
      "++++++++++++++++++++++++++++++++++++++++++++++++++\n",
      "\n",
      "Add step [ 1 ]? y/n :  y\n"
     ]
    }
   ],
   "source": [
    "%run user_interface.py"
   ]
  },
  {
   "cell_type": "code",
   "execution_count": null,
   "metadata": {},
   "outputs": [],
   "source": []
  }
 ],
 "metadata": {
  "kernelspec": {
   "display_name": "Python 3",
   "language": "python",
   "name": "python3"
  },
  "language_info": {
   "codemirror_mode": {
    "name": "ipython",
    "version": 3
   },
   "file_extension": ".py",
   "mimetype": "text/x-python",
   "name": "python",
   "nbconvert_exporter": "python",
   "pygments_lexer": "ipython3",
   "version": "3.7.3"
  }
 },
 "nbformat": 4,
 "nbformat_minor": 2
}
