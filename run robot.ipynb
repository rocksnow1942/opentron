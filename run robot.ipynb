{
 "cells": [
  {
   "cell_type": "code",
   "execution_count": null,
   "metadata": {
    "scrolled": false
   },
   "outputs": [
    {
     "name": "stdout",
     "output_type": "stream",
     "text": [
      "Get start?\n",
      "++++++++++++++++++++++++++++++++++++++++++++++++++\n",
      "\n",
      "What to do?\n",
      " 1). create protocol and run \n",
      " 2). create protocol and save\n",
      " 3). run saved protocol\n",
      " manual mode \n",
      "\n",
      "Choose one (1,2,3) : 2\n",
      "++++++++++++++++++++++++++++++++++++++++++++++++++\n",
      "\n",
      "Deck plan options: \n",
      "1).default : 1/3:elisa strip; 2:trough; 4:15-50ml rack; 5:ep rack; 9:trash\n",
      "2).default-1ml-Plate : *1:1ml-PP plate*; 2:trough; 3:elisa strip; 4:15-50ml rack; 5:ep rack; 9:trash\n",
      "3).default-5ml : 1/3:elisa strip; 2:trough; *4:5ml-50ml rack*; 5:ep rack; 9:trash\n",
      "4).default-mag : *1:magnet*; 2:trough; 3:elisa strip; 4:15-50ml rack; 5:ep rack; 9:trash\n",
      "Pick a deck plan to use (1,2,3) : 4\n",
      "++++++++++++++++++++++++++++++++++++++++++++++++++\n",
      "Single tip start position (*A1, C5) : *single\n",
      "Multi tip start position (*A4, A2) : *multi\n",
      "++++++++++++++++++++++++++++++++++++++++++++++++++\n",
      "Build your experiment procedures: \n",
      "++++++++++++++++++++++++++++++++++++++++++++++++++\n",
      "\n",
      "Currently these operations are available:\n",
      "\n",
      "md or multi-distribute : distribute liquid with multi pipette.\n",
      "sd or single-distribute : distribute liquid with single pipette.\n",
      "msd or multi-serial-dilution : serial dilution with multi pipette.\n",
      "ssd or single-serial-dilution : serial dilution with single pipette.\n",
      "mmx or multi-mix : mix liquid with multi pipette.\n",
      "smx or multi-mix : mix liquid with single pipette.\n",
      "tm or toggle-magnet : engage or disengage magnet\n",
      "oh or on-hold : put robot on hold for certain time\n",
      "\n",
      "++++++++++++++++++++++++++++++++++++++++++++++++++\n",
      "\n",
      "Add step [ 1 ]? y/n :  y\n",
      "What's the task? : md\n",
      "From where? (2-A3,4-4:8,[,]) : *buffer position\n",
      "Starting volume? (100ul,15ml,[,]) :*buffer vol\n",
      "Distribute to where? (2-A1,3-2:8,trash,[,]) : *plate position\n",
      "Volume to distribute in ul (100,150,[,]) : 100\n",
      "How much liquid already there in ul? (50,300,[,])  : 0\n",
      "Type no to access optional parameters, any key to pass : \n",
      "Confirm the step ? y/n : y\n",
      "\n",
      "++++++++++++++++++++++++++++++++++++++++++++++++++\n",
      "\n",
      "Add step [ 2 ]? y/n :  y\n",
      "What's the task? : msd\n",
      "Dilution series position? (5-A1:A6,3-4:8,[,]) : *plate position\n",
      "Dilution factor (3.162,2.0,[,]) : *dilution factor\n",
      "Final volume in ul (100,150,[,]) : 100\n",
      "Type no to access optional parameters, any key to pass : \n",
      "Confirm the step ? y/n : y\n",
      "\n",
      "++++++++++++++++++++++++++++++++++++++++++++++++++\n",
      "\n",
      "Add step [ 3 ]? y/n :  y\n",
      "What's the task? : md\n",
      "From where? (2-A3,4-4:8,[,]) : *beads position\n",
      "Starting volume? (100ul,15ml,[,]) :*beads vol\n",
      "Distribute to where? (2-A1,3-2:8,trash,[,]) : *plate position\n",
      "Volume to distribute in ul (100,150,[,]) : 50\n",
      "How much liquid already there in ul? (50,300,[,])  : 100\n",
      "Type no to access optional parameters, any key to pass : \n",
      "Confirm the step ? y/n : y\n",
      "\n",
      "++++++++++++++++++++++++++++++++++++++++++++++++++\n",
      "\n",
      "Add step [ 4 ]? y/n :  n\n",
      "Current parameters:\n",
      "\n",
      "++++++++++++++++++++++++++++++++++++++++++++++++++\n",
      "\n",
      "Step 0-1 parameters: \n",
      "{\n",
      "    \"name\": \"initialize_deck\",\n",
      "    \"parameter\": {\n",
      "        \"deck_plan\": \"default-mag\"\n",
      "    }\n",
      "}\n",
      "Step 0-2 parameters: \n",
      "{\n",
      "    \"name\": \"initialize_tip\",\n",
      "    \"parameter\": {\n",
      "        \"single_tip_starting_position\": \"*single\",\n",
      "        \"multi_tip_starting_position\": \"*multi\"\n",
      "    }\n",
      "}\n",
      "Step 1 parameters: \n",
      "{\n",
      "    \"parameter\": {\n",
      "        \"source\": \"*buffer position\",\n",
      "        \"source_vol\": \"*buffer vol\",\n",
      "        \"target\": \"*plate position\",\n",
      "        \"volume\": 100.0,\n",
      "        \"target_vol\": 0.0\n",
      "    },\n",
      "    \"name\": \"md\"\n",
      "}\n",
      "Step 2 parameters: \n",
      "{\n",
      "    \"parameter\": {\n",
      "        \"position\": \"*plate position\",\n",
      "        \"dilution_factor\": \"*dilution factor\",\n",
      "        \"volume\": 100.0\n",
      "    },\n",
      "    \"name\": \"msd\"\n",
      "}\n",
      "Step 3 parameters: \n",
      "{\n",
      "    \"parameter\": {\n",
      "        \"source\": \"*beads position\",\n",
      "        \"source_vol\": \"*beads vol\",\n",
      "        \"target\": \"*plate position\",\n",
      "        \"volume\": 50.0,\n",
      "        \"target_vol\": 100.0\n",
      "    },\n",
      "    \"name\": \"md\"\n",
      "}\n",
      "\n",
      "++++++++++++++++++++++++++++++++++++++++++++++++++\n",
      "\n"
     ]
    }
   ],
   "source": [
    "%run user_interface.py"
   ]
  },
  {
   "cell_type": "code",
   "execution_count": null,
   "metadata": {},
   "outputs": [],
   "source": []
  },
  {
   "cell_type": "code",
   "execution_count": null,
   "metadata": {},
   "outputs": [],
   "source": []
  },
  {
   "cell_type": "code",
   "execution_count": null,
   "metadata": {},
   "outputs": [],
   "source": []
  },
  {
   "cell_type": "code",
   "execution_count": null,
   "metadata": {},
   "outputs": [],
   "source": []
  },
  {
   "cell_type": "code",
   "execution_count": null,
   "metadata": {},
   "outputs": [],
   "source": []
  },
  {
   "cell_type": "code",
   "execution_count": null,
   "metadata": {},
   "outputs": [],
   "source": []
  },
  {
   "cell_type": "code",
   "execution_count": null,
   "metadata": {},
   "outputs": [],
   "source": []
  },
  {
   "cell_type": "code",
   "execution_count": null,
   "metadata": {},
   "outputs": [],
   "source": []
  },
  {
   "cell_type": "code",
   "execution_count": null,
   "metadata": {},
   "outputs": [],
   "source": []
  },
  {
   "cell_type": "code",
   "execution_count": null,
   "metadata": {},
   "outputs": [],
   "source": []
  },
  {
   "cell_type": "code",
   "execution_count": null,
   "metadata": {},
   "outputs": [],
   "source": []
  },
  {
   "cell_type": "code",
   "execution_count": null,
   "metadata": {},
   "outputs": [],
   "source": []
  },
  {
   "cell_type": "code",
   "execution_count": null,
   "metadata": {},
   "outputs": [],
   "source": []
  },
  {
   "cell_type": "code",
   "execution_count": null,
   "metadata": {},
   "outputs": [],
   "source": []
  },
  {
   "cell_type": "code",
   "execution_count": null,
   "metadata": {},
   "outputs": [],
   "source": []
  },
  {
   "cell_type": "code",
   "execution_count": null,
   "metadata": {},
   "outputs": [],
   "source": []
  }
 ],
 "metadata": {
  "kernelspec": {
   "display_name": "Python 3",
   "language": "python",
   "name": "python3"
  },
  "language_info": {
   "codemirror_mode": {
    "name": "ipython",
    "version": 3
   },
   "file_extension": ".py",
   "mimetype": "text/x-python",
   "name": "python",
   "nbconvert_exporter": "python",
   "pygments_lexer": "ipython3",
   "version": "3.7.3"
  }
 },
 "nbformat": 4,
 "nbformat_minor": 2
}
